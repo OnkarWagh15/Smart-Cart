{
 "cells": [
  {
   "cell_type": "code",
   "execution_count": 6,
   "metadata": {},
   "outputs": [],
   "source": [
    "import pandas as pd\n",
    "import numpy as np\n",
    "import home as hm"
   ]
  },
  {
   "cell_type": "code",
   "execution_count": 7,
   "metadata": {},
   "outputs": [
    {
     "name": "stdout",
     "output_type": "stream",
     "text": [
      "                                                 Name            Price  \\\n",
      "0   HP Victus Gaming Laptop, 12th Gen Intel Core i...          80490.0   \n",
      "1   Dell Inspiron 7430 2in1 Touch Laptop, 13th Gen...          58490.0   \n",
      "2   ASUS Vivobook S15 OLED 2022, 15.6\" 39.62 cm FH...          74990.0   \n",
      "3   Dell G15 5520 Gaming Laptop, Intel i5-12500H/1...          77990.0   \n",
      "4   Abgrow Black PU Office Bag with 15.6 Inch Expa...              449   \n",
      "5   KP2 ® 57cm Clip Collar Mic for YouTube, Collar...              149   \n",
      "6        OMRON BAGS 35 Ltrs Blue Laptop Backpack Bags              575   \n",
      "7   DALUCI Gel Cleaner for Car Interior Dust Clean...              179   \n",
      "8   Dell WD5000LPVX Western Digital Blue 7mm 500GB...             2990   \n",
      "9   Laptop Skin aqua Premium vinyl HD printed Easy...              169   \n",
      "10  Shopper52 Laptop Table For Upto 40.64 cm (16) ...              625   \n",
      "11  HOMETALES 25 in 1 Screwdriver Set, Multi-Pocke...              299   \n",
      "12          Universal Traveller Brown P.U. Office Bag              519   \n",
      "13   KALARKARI - Multicolor Matt - Finish Laptop Skin              189   \n",
      "14  Tzoo Kids Electronic Laptop, LED Display with ...              489   \n",
      "15  Apnav - Brown P.U 15.6 Inch Expandable Laptop ...              649   \n",
      "16               Da Tasche - Brown Leather Office Bag              449   \n",
      "17                     AQUADOR - Black P.U Office Bag             1149   \n",
      "18                     Gear 19 Ltrs Black Laptop Bags              549   \n",
      "19  Laptop Skin water fall Premium vinyl HD printe...              169   \n",
      "20  Villy Computer/Baby Laptop Toy Educational Abc...              269   \n",
      "21              krishiv - Tan Faux Leather Office Bag              875   \n",
      "22             Louis Craft 30 Ltrs Orange Laptop Bags              549   \n",
      "23               Lois Caron 35 Ltrs Black Laptop Bags              999   \n",
      "24   13.3 inch Core i3-6100 i5-6500 4gb RAM 128gb ...  US$423.00/piece   \n",
      "25   GJKNX 68Wh 7.6V Laptop Battery Replacement No...   US$25.00/piece   \n",
      "\n",
      "    Ratings                                Time  \\\n",
      "0       4.1                                 NaN   \n",
      "1       4.1                                 NaN   \n",
      "2       4.1                                 NaN   \n",
      "3       4.1                                 NaN   \n",
      "4       4.0  Generally delivered in 6 - 10 days   \n",
      "5       4.0   Generally delivered in 2 - 4 days   \n",
      "6       4.2  Generally delivered in 7 - 11 days   \n",
      "7       2.6  Generally delivered in 6 - 10 days   \n",
      "8       NaN   Generally delivered in 5 - 9 days   \n",
      "9       4.1  Generally delivered in 6 - 10 days   \n",
      "10      4.2   Generally delivered in 2 - 4 days   \n",
      "11      4.1  Generally delivered in 6 - 10 days   \n",
      "12      4.1  Generally delivered in 6 - 10 days   \n",
      "13      5.0  Generally delivered in 6 - 10 days   \n",
      "14      4.2  Generally delivered in 6 - 10 days   \n",
      "15      4.4  Generally delivered in 6 - 10 days   \n",
      "16      4.0  Generally delivered in 6 - 10 days   \n",
      "17      4.3  Generally delivered in 6 - 10 days   \n",
      "18      4.3  Generally delivered in 8 - 12 days   \n",
      "19      4.2  Generally delivered in 6 - 10 days   \n",
      "20      4.2  Generally delivered in 7 - 11 days   \n",
      "21      4.2  Generally delivered in 6 - 10 days   \n",
      "22      4.1  Generally delivered in 6 - 10 days   \n",
      "23      5.0  Generally delivered in 6 - 10 days   \n",
      "24      5.0                                 NaN   \n",
      "25      4.7                                 NaN   \n",
      "\n",
      "                                                 Link  \n",
      "0   https://www.amazon.in/sspa/click?ie=UTF8&spc=M...  \n",
      "1   https://www.amazon.in/sspa/click?ie=UTF8&spc=M...  \n",
      "2   https://www.amazon.in/sspa/click?ie=UTF8&spc=M...  \n",
      "3   https://www.amazon.in/sspa/click?ie=UTF8&spc=M...  \n",
      "4   https://www.snapdeal.com/product/abgrow-black-...  \n",
      "5   https://www.snapdeal.com/product/kp2-35mm-clip...  \n",
      "6   https://www.snapdeal.com/product/omron-bags-40...  \n",
      "7   https://www.snapdeal.com/product/daluci-gel-cl...  \n",
      "8   https://www.snapdeal.com/product/dell-wd5000lp...  \n",
      "9   https://www.snapdeal.com/product/laptop-skin-a...  \n",
      "10  https://www.snapdeal.com/product/shopper52-lap...  \n",
      "11  https://www.snapdeal.com/product/electo-mania-...  \n",
      "12  https://www.snapdeal.com/product/universal-tra...  \n",
      "13  https://www.snapdeal.com/product/kalarkari-mul...  \n",
      "14  https://www.snapdeal.com/product/tzoo-kids-ele...  \n",
      "15  https://www.snapdeal.com/product/apnav-brown-p...  \n",
      "16  https://www.snapdeal.com/product/da-tasche-bro...  \n",
      "17  https://www.snapdeal.com/product/aquador-1447-...  \n",
      "18  https://www.snapdeal.com/product/gear-19-ltrs-...  \n",
      "19  https://www.snapdeal.com/product/laptop-skin-w...  \n",
      "20  https://www.snapdeal.com/product/villy-compute...  \n",
      "21  https://www.snapdeal.com/product/krishiv-tan-f...  \n",
      "22  https://www.snapdeal.com/product/louis-craft-3...  \n",
      "23  https://www.snapdeal.com/product/lois-caron-35...  \n",
      "24  https://www.alibaba.com/product-detail/13-3-In...  \n",
      "25  https://www.alibaba.com/product-detail/GJKNX-6...  \n"
     ]
    }
   ],
   "source": [
    "df = pd.read_csv(\"ProductDetails.csv\")\n",
    "print(df)"
   ]
  },
  {
   "cell_type": "code",
   "execution_count": 8,
   "metadata": {},
   "outputs": [],
   "source": [
    "import home"
   ]
  },
  {
   "cell_type": "code",
   "execution_count": 9,
   "metadata": {},
   "outputs": [
    {
     "name": "stdout",
     "output_type": "stream",
     "text": [
      "{'__name__': 'home', '__doc__': None, '__package__': '', '__loader__': <_frozen_importlib_external.SourceFileLoader object at 0x7f3068cdee90>, '__spec__': ModuleSpec(name='home', loader=<_frozen_importlib_external.SourceFileLoader object at 0x7f3068cdee90>, origin='/home/sanika/COEP/SEM-VI/DS/project/Smart-Cart/home.py'), '__file__': '/home/sanika/COEP/SEM-VI/DS/project/Smart-Cart/home.py', '__cached__': '/home/sanika/COEP/SEM-VI/DS/project/Smart-Cart/__pycache__/home.cpython-310.pyc', '__builtins__': {'__name__': 'builtins', '__doc__': \"Built-in functions, exceptions, and other objects.\\n\\nNoteworthy: None is the `nil' object; Ellipsis represents `...' in slices.\", '__package__': '', '__loader__': <class '_frozen_importlib.BuiltinImporter'>, '__spec__': ModuleSpec(name='builtins', loader=<class '_frozen_importlib.BuiltinImporter'>, origin='built-in'), '__build_class__': <built-in function __build_class__>, '__import__': <built-in function __import__>, 'abs': <built-in function abs>, 'all': <built-in function all>, 'any': <built-in function any>, 'ascii': <built-in function ascii>, 'bin': <built-in function bin>, 'breakpoint': <built-in function breakpoint>, 'callable': <built-in function callable>, 'chr': <built-in function chr>, 'compile': <built-in function compile>, 'delattr': <built-in function delattr>, 'dir': <built-in function dir>, 'divmod': <built-in function divmod>, 'eval': <built-in function eval>, 'exec': <built-in function exec>, 'format': <built-in function format>, 'getattr': <built-in function getattr>, 'globals': <built-in function globals>, 'hasattr': <built-in function hasattr>, 'hash': <built-in function hash>, 'hex': <built-in function hex>, 'id': <built-in function id>, 'input': <bound method Kernel.raw_input of <ipykernel.ipkernel.IPythonKernel object at 0x7f30a95ffb20>>, 'isinstance': <built-in function isinstance>, 'issubclass': <built-in function issubclass>, 'iter': <built-in function iter>, 'aiter': <built-in function aiter>, 'len': <built-in function len>, 'locals': <built-in function locals>, 'max': <built-in function max>, 'min': <built-in function min>, 'next': <built-in function next>, 'anext': <built-in function anext>, 'oct': <built-in function oct>, 'ord': <built-in function ord>, 'pow': <built-in function pow>, 'print': <built-in function print>, 'repr': <built-in function repr>, 'round': <built-in function round>, 'setattr': <built-in function setattr>, 'sorted': <built-in function sorted>, 'sum': <built-in function sum>, 'vars': <built-in function vars>, 'None': None, 'Ellipsis': Ellipsis, 'NotImplemented': NotImplemented, 'False': False, 'True': True, 'bool': <class 'bool'>, 'memoryview': <class 'memoryview'>, 'bytearray': <class 'bytearray'>, 'bytes': <class 'bytes'>, 'classmethod': <class 'classmethod'>, 'complex': <class 'complex'>, 'dict': <class 'dict'>, 'enumerate': <class 'enumerate'>, 'filter': <class 'filter'>, 'float': <class 'float'>, 'frozenset': <class 'frozenset'>, 'property': <class 'property'>, 'int': <class 'int'>, 'list': <class 'list'>, 'map': <class 'map'>, 'object': <class 'object'>, 'range': <class 'range'>, 'reversed': <class 'reversed'>, 'set': <class 'set'>, 'slice': <class 'slice'>, 'staticmethod': <class 'staticmethod'>, 'str': <class 'str'>, 'super': <class 'super'>, 'tuple': <class 'tuple'>, 'type': <class 'type'>, 'zip': <class 'zip'>, '__debug__': True, 'BaseException': <class 'BaseException'>, 'Exception': <class 'Exception'>, 'TypeError': <class 'TypeError'>, 'StopAsyncIteration': <class 'StopAsyncIteration'>, 'StopIteration': <class 'StopIteration'>, 'GeneratorExit': <class 'GeneratorExit'>, 'SystemExit': <class 'SystemExit'>, 'KeyboardInterrupt': <class 'KeyboardInterrupt'>, 'ImportError': <class 'ImportError'>, 'ModuleNotFoundError': <class 'ModuleNotFoundError'>, 'OSError': <class 'OSError'>, 'EnvironmentError': <class 'OSError'>, 'IOError': <class 'OSError'>, 'EOFError': <class 'EOFError'>, 'RuntimeError': <class 'RuntimeError'>, 'RecursionError': <class 'RecursionError'>, 'NotImplementedError': <class 'NotImplementedError'>, 'NameError': <class 'NameError'>, 'UnboundLocalError': <class 'UnboundLocalError'>, 'AttributeError': <class 'AttributeError'>, 'SyntaxError': <class 'SyntaxError'>, 'IndentationError': <class 'IndentationError'>, 'TabError': <class 'TabError'>, 'LookupError': <class 'LookupError'>, 'IndexError': <class 'IndexError'>, 'KeyError': <class 'KeyError'>, 'ValueError': <class 'ValueError'>, 'UnicodeError': <class 'UnicodeError'>, 'UnicodeEncodeError': <class 'UnicodeEncodeError'>, 'UnicodeDecodeError': <class 'UnicodeDecodeError'>, 'UnicodeTranslateError': <class 'UnicodeTranslateError'>, 'AssertionError': <class 'AssertionError'>, 'ArithmeticError': <class 'ArithmeticError'>, 'FloatingPointError': <class 'FloatingPointError'>, 'OverflowError': <class 'OverflowError'>, 'ZeroDivisionError': <class 'ZeroDivisionError'>, 'SystemError': <class 'SystemError'>, 'ReferenceError': <class 'ReferenceError'>, 'MemoryError': <class 'MemoryError'>, 'BufferError': <class 'BufferError'>, 'Warning': <class 'Warning'>, 'UserWarning': <class 'UserWarning'>, 'EncodingWarning': <class 'EncodingWarning'>, 'DeprecationWarning': <class 'DeprecationWarning'>, 'PendingDeprecationWarning': <class 'PendingDeprecationWarning'>, 'SyntaxWarning': <class 'SyntaxWarning'>, 'RuntimeWarning': <class 'RuntimeWarning'>, 'FutureWarning': <class 'FutureWarning'>, 'ImportWarning': <class 'ImportWarning'>, 'UnicodeWarning': <class 'UnicodeWarning'>, 'BytesWarning': <class 'BytesWarning'>, 'ResourceWarning': <class 'ResourceWarning'>, 'ConnectionError': <class 'ConnectionError'>, 'BlockingIOError': <class 'BlockingIOError'>, 'BrokenPipeError': <class 'BrokenPipeError'>, 'ChildProcessError': <class 'ChildProcessError'>, 'ConnectionAbortedError': <class 'ConnectionAbortedError'>, 'ConnectionRefusedError': <class 'ConnectionRefusedError'>, 'ConnectionResetError': <class 'ConnectionResetError'>, 'FileExistsError': <class 'FileExistsError'>, 'FileNotFoundError': <class 'FileNotFoundError'>, 'IsADirectoryError': <class 'IsADirectoryError'>, 'NotADirectoryError': <class 'NotADirectoryError'>, 'InterruptedError': <class 'InterruptedError'>, 'PermissionError': <class 'PermissionError'>, 'ProcessLookupError': <class 'ProcessLookupError'>, 'TimeoutError': <class 'TimeoutError'>, 'open': <built-in function open>, 'copyright': Copyright (c) 2001-2023 Python Software Foundation.\n",
      "All Rights Reserved.\n",
      "\n",
      "Copyright (c) 2000 BeOpen.com.\n",
      "All Rights Reserved.\n",
      "\n",
      "Copyright (c) 1995-2001 Corporation for National Research Initiatives.\n",
      "All Rights Reserved.\n",
      "\n",
      "Copyright (c) 1991-1995 Stichting Mathematisch Centrum, Amsterdam.\n",
      "All Rights Reserved., 'credits':     Thanks to CWI, CNRI, BeOpen.com, Zope Corporation and a cast of thousands\n",
      "    for supporting Python development.  See www.python.org for more information., 'license': Type license() to see the full license text, 'help': Type help() for interactive help, or help(object) for help about object., 'execfile': <function execfile at 0x7f30a9acf010>, 'runfile': <function runfile at 0x7f30a9756170>, '__IPYTHON__': True, 'display': <function display at 0x7f30aa794a60>, 'get_ipython': <bound method InteractiveShell.get_ipython of <ipykernel.zmqshell.ZMQInteractiveShell object at 0x7f30a844c070>>}, 'ssl': <module 'ssl' from '/usr/lib/python3.10/ssl.py'>, 'requests': <module 'requests' from '/home/sanika/.local/lib/python3.10/site-packages/requests/__init__.py'>, 'pd': <module 'pandas' from '/home/sanika/.local/lib/python3.10/site-packages/pandas/__init__.py'>, 'st': <module 'streamlit' from '/home/sanika/.local/lib/python3.10/site-packages/streamlit/__init__.py'>, 'request': <module 'urllib.request' from '/usr/lib/python3.10/urllib/request.py'>, 'BeautifulSoup': <class 'bs4.BeautifulSoup'>, 'dfPrimary': Empty DataFrame\n",
      "Columns: []\n",
      "Index: [], 'writeToExcel': <function writeToExcel at 0x7f30a84f4310>, 'CrawlAmazon': <function CrawlAmazon at 0x7f30639bb520>, 'crawlFlipkart': <function crawlFlipkart at 0x7f30637309d0>, 'crawlSnapdeal': <function crawlSnapdeal at 0x7f3063730a60>, 'crawlAlibaba': <function crawlAlibaba at 0x7f3063730af0>, 'urlFormation': <function urlFormation at 0x7f3063730b80>, 'crawling': <function crawling at 0x7f3063730c10>}\n"
     ]
    },
    {
     "ename": "AttributeError",
     "evalue": "module 'home' has no attribute 'globals'",
     "output_type": "error",
     "traceback": [
      "\u001b[0;31m---------------------------------------------------------------------------\u001b[0m",
      "\u001b[0;31mAttributeError\u001b[0m                            Traceback (most recent call last)",
      "Cell \u001b[0;32mIn[9], line 2\u001b[0m\n\u001b[1;32m      1\u001b[0m \u001b[38;5;28mprint\u001b[39m(\u001b[38;5;28mvars\u001b[39m(home))\n\u001b[0;32m----> 2\u001b[0m \u001b[38;5;28mprint\u001b[39m(\u001b[43mhome\u001b[49m\u001b[38;5;241;43m.\u001b[39;49m\u001b[43mglobals\u001b[49m())\n",
      "\u001b[0;31mAttributeError\u001b[0m: module 'home' has no attribute 'globals'"
     ]
    }
   ],
   "source": [
    "print(vars(home))\n",
    "print(home.globals())"
   ]
  },
  {
   "cell_type": "code",
   "execution_count": null,
   "metadata": {},
   "outputs": [],
   "source": []
  }
 ],
 "metadata": {
  "kernelspec": {
   "display_name": "Python 3",
   "language": "python",
   "name": "python3"
  },
  "language_info": {
   "codemirror_mode": {
    "name": "ipython",
    "version": 3
   },
   "file_extension": ".py",
   "mimetype": "text/x-python",
   "name": "python",
   "nbconvert_exporter": "python",
   "pygments_lexer": "ipython3",
   "version": "3.10.12"
  }
 },
 "nbformat": 4,
 "nbformat_minor": 2
}
